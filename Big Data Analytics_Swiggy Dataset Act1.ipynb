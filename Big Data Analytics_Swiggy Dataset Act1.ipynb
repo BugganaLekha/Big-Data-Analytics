{
  "nbformat": 4,
  "nbformat_minor": 0,
  "metadata": {
    "colab": {
      "provenance": [],
      "include_colab_link": true
    },
    "kernelspec": {
      "name": "python3",
      "display_name": "Python 3"
    },
    "language_info": {
      "name": "python"
    }
  },
  "cells": [
    {
      "cell_type": "markdown",
      "metadata": {
        "id": "view-in-github",
        "colab_type": "text"
      },
      "source": [
        "<a href=\"https://colab.research.google.com/github/BugganaLekha/Big-Data-Analytics/blob/main/Big%20Data%20Analytics_Swiggy%20Dataset%20Act1.ipynb\" target=\"_parent\"><img src=\"https://colab.research.google.com/assets/colab-badge.svg\" alt=\"Open In Colab\"/></a>"
      ]
    },
    {
      "cell_type": "code",
      "execution_count": null,
      "metadata": {
        "id": "mJZsaAOEvV25"
      },
      "outputs": [],
      "source": [
        "import csv\n",
        "from collections import Counter, defaultdict\n",
        "import pandas as pd\n",
        "import matplotlib.pyplot as plt\n",
        "import seaborn as sns"
      ]
    },
    {
      "cell_type": "code",
      "source": [
        "file_path = \"/content/sample_data/swiggy_orders_sample.csv\""
      ],
      "metadata": {
        "id": "KRVW6FwqvYMb"
      },
      "execution_count": null,
      "outputs": []
    },
    {
      "cell_type": "code",
      "source": [
        "orders = []\n",
        "with open(file_path, newline='', encoding=\"utf-8\") as csvfile:\n",
        "    reader = csv.DictReader(csvfile)\n",
        "    for row in reader:\n",
        "        orders.append(row)"
      ],
      "metadata": {
        "id": "N11TtXgMvcj2"
      },
      "execution_count": null,
      "outputs": []
    },
    {
      "cell_type": "code",
      "source": [
        "# 1. Top 3 cuisines\n",
        "cuisine_count = Counter(row[\"cuisine\"] for row in orders)\n",
        "top_3_cuisines = cuisine_count.most_common(3)\n",
        "\n",
        "print(\"Task 1 - Top 3 cuisines:\\n\", top_3_cuisines, \"\\n\")"
      ],
      "metadata": {
        "id": "L-taNzorvuFF",
        "colab": {
          "base_uri": "https://localhost:8080/"
        },
        "outputId": "78e3e05c-74ce-4a7c-a343-ccf21c7cc975"
      },
      "execution_count": null,
      "outputs": [
        {
          "output_type": "stream",
          "name": "stdout",
          "text": [
            "Task 1 - Top 3 cuisines:\n",
            " [('South Indian', 47), ('Fast Food', 44), ('Chinese', 38)] \n",
            "\n"
          ]
        }
      ]
    },
    {
      "cell_type": "code",
      "source": [
        "# 2. City with most orders\n",
        "city_count = Counter(row[\"city\"] for row in orders)\n",
        "city_most_orders = city_count.most_common(1)\n",
        "\n",
        "print(\"Task 2 - City with most orders:\\n\", city_most_orders, \"\\n\")"
      ],
      "metadata": {
        "id": "OuK8sOD-v_TE",
        "colab": {
          "base_uri": "https://localhost:8080/"
        },
        "outputId": "ce3c1708-7be3-407b-e41f-417758a82e8f"
      },
      "execution_count": null,
      "outputs": [
        {
          "output_type": "stream",
          "name": "stdout",
          "text": [
            "Task 2 - City with most orders:\n",
            " [('Bangalore', 48)] \n",
            "\n"
          ]
        }
      ]
    },
    {
      "cell_type": "code",
      "source": [
        "# 3. Top 5 spenders\n",
        "user_spending = defaultdict(float)\n",
        "for row in orders:\n",
        "    try:\n",
        "        user_spending[row[\"user_id\"]] += float(row[\"order_amount\"])\n",
        "    except:\n",
        "        pass\n",
        "top_5_spenders = sorted(user_spending.items(), key=lambda x: x[1], reverse=True)[:5]\n",
        "\n",
        "print(\"Task 3 - Top 5 spenders:\\n\", top_5_spenders, \"\\n\")"
      ],
      "metadata": {
        "id": "plTk-YCUwHgB",
        "colab": {
          "base_uri": "https://localhost:8080/"
        },
        "outputId": "832fdefd-325e-4cdf-89f7-17c2b2d2ddc4"
      },
      "execution_count": null,
      "outputs": [
        {
          "output_type": "stream",
          "name": "stdout",
          "text": [
            "Task 3 - Top 5 spenders:\n",
            " [('U021', 4787.0), ('U013', 4507.0), ('U036', 4383.0), ('U041', 3925.0), ('U030', 3684.0)] \n",
            "\n"
          ]
        }
      ]
    },
    {
      "cell_type": "code",
      "source": [
        "# 4. Total orders in each city\n",
        "orders_per_city = dict(city_count)\n",
        "orders_per_city\n",
        "print(\"Task 4 - Total orders in each city:\\n\", orders_per_city, \"\\n\")"
      ],
      "metadata": {
        "id": "0s8FIygewOst",
        "colab": {
          "base_uri": "https://localhost:8080/"
        },
        "outputId": "bf45c7fa-4a12-4bf1-f7d9-7d06b21efe22"
      },
      "execution_count": null,
      "outputs": [
        {
          "output_type": "stream",
          "name": "stdout",
          "text": [
            "Task 4 - Total orders in each city:\n",
            " {'Chennai': 34, 'Bangalore': 48, 'Mumbai': 43, 'Delhi': 35, 'Hyderabad': 40} \n",
            "\n"
          ]
        }
      ]
    },
    {
      "cell_type": "code",
      "source": [
        "orders_count_by_city = df[\"city\"].value_counts()\n",
        "\n",
        "plt.figure(figsize=(10,6))\n",
        "sns.barplot(x=orders_count_by_city.index, y=orders_count_by_city.values, palette=\"magma\")\n",
        "\n",
        "plt.title(\"Number of Orders by City\", fontsize=16)\n",
        "plt.xlabel(\"City\", fontsize=12)\n",
        "plt.ylabel(\"Number of Orders\", fontsize=12)\n",
        "plt.xticks(rotation=45)\n",
        "plt.tight_layout()\n",
        "plt.show()"
      ],
      "metadata": {
        "colab": {
          "base_uri": "https://localhost:8080/",
          "height": 694
        },
        "id": "KU1Yx6BgwaVC",
        "outputId": "900f3cc4-47f6-4da2-aaab-d025abb1f535"
      },
      "execution_count": null,
      "outputs": [
        {
          "output_type": "stream",
          "name": "stderr",
          "text": [
            "/tmp/ipython-input-1246564953.py:4: FutureWarning: \n",
            "\n",
            "Passing `palette` without assigning `hue` is deprecated and will be removed in v0.14.0. Assign the `x` variable to `hue` and set `legend=False` for the same effect.\n",
            "\n",
            "  sns.barplot(x=orders_count_by_city.index, y=orders_count_by_city.values, palette=\"magma\")\n"
          ]
        },
        {
          "output_type": "display_data",
          "data": {
            "text/plain": [
              "<Figure size 1000x600 with 1 Axes>"
            ],
            "image/png": "[encoded data removed]"
          },
          "metadata": {}
        }
      ]
    },
    {
      "cell_type": "markdown",
      "source": [
        "Task 5: Why Do Food Delivery Apps Give Different Offers in Different Cities?\n",
        "\n",
        "Food delivery apps (like Swiggy, Zomato, UberEATS) do not give the same offers everywhere. The offers differ city by city because of multiple business and operational factors:\n",
        "\n",
        "1.Market Competition:\n",
        "\n",
        "•\tIf many delivery platforms are active in a city (e.g., Bangalore, Delhi), apps give heavier discounts to attract customers.\n",
        "\n",
        "•\tIn smaller cities with less competition, offers are fewer.\n",
        "\n",
        "2.Customer Behaviour & Spending Power:\n",
        "\n",
        "•\tMetro city customers often spend more, so apps give value-base offers (e.g., free deliveries above Rs299.\n",
        "\n",
        "•\tTier-2 or Tier-3 city customers are more price-sensitive, so apps give flat discounts to attract them.\n",
        "\n",
        "3.Restaurant Density:\n",
        "\n",
        "•\tCities with thousands of restaurants -> more partnerships ->more promo codes.\n",
        "\n",
        "•\tSmaller cities with limited options -> fewer offers.\n",
        "\n",
        "4.Operational & Delivery Costs:\n",
        "\n",
        "•\tDelivery cost varies by city (traffic, distance, fuel, rider availability).\n",
        "\n",
        "•\tApps adjust offers so they don't lose too much money in expensive delivery cities.\n",
        "\n",
        "5.Demand Patterns:\n",
        "\n",
        "•\tSome cuisines are very popular in specific cities (e.g., South Indian in Chennai/Hyderabad)\n",
        "\n",
        "• Offers are customized to promote less popular.\n",
        "\n"
      ],
      "metadata": {
        "id": "YdDF1Bp6zurj"
      }
    },
    {
      "cell_type": "markdown",
      "source": [
        "\n",
        "\n",
        "Reflection / Discussion Prompts\n",
        "\n"
      ],
      "metadata": {
        "id": "uS4RdnSJzK5X"
      }
    },
    {
      "cell_type": "markdown",
      "source": [
        "1. If this were a real food delivery platform, how would you use these insights (top cuisines, top spenders, busiest city)?\n",
        "\n",
        "Top Cuisines -- Highlight popular cuisines in promotions, negotiate better deals with restaurants serving them, recommend them to new users.\n",
        "\n",
        "Top Spenders -- Run loyalty programs, VIP discounts, or early access offers for these high-value customers to retain them.\n",
        "\n",
        "Busiest City -- Have restaurant partnerships in that city, allocate more riders during peak hours, and expand marketing where demand is highest."
      ],
      "metadata": {
        "id": "bWE0GbmDy9OT"
      }
    },
    {
      "cell_type": "markdown",
      "source": [
        "2. What data quality issues would you expect at larger scale?\n",
        "\n",
        "Duplicates: Same order/user appearing multiple times due to retries, API errors, or system bugs.\n",
        "\n",
        "Missing values: Orders without city, cuisine, or spend amount, especially from new restaurants or integration issues.\n",
        "\n",
        "Outliers: Extremely high order values (data entry errors, fraud) or zero-amount orders (failed payments).\n",
        "\n",
        "Inconsistent formatting: e.g., \"Bangalore\" vs \"Bengaluru\", \"Fast Food\" vs \"fastfood\"."
      ],
      "metadata": {
        "id": "O5Hg_UOlzPoq"
      }
    },
    {
      "cell_type": "markdown",
      "source": [
        "3. Which problems would require streaming/near-real-time processing instead of batch?\n",
        "\n",
        "Fraud detection: Spot unusual order amounts or suspicious activity instantly.\n",
        "\n",
        "Dynamic offers: Give discounts in real-time when demand is low or delivery capacity is high.\n",
        "\n",
        "Delivery logistics: Continuously update driver locations, assign orders dynamically, reroute for traffic.\n",
        "\n",
        "Real-time dashboards: Show live order volumes per city, cuisine trends, or busiest times.\n",
        "\n",
        "Customer experience: Immediately update order tracking and ETA notifications."
      ],
      "metadata": {
        "id": "F9VqPoADzl6N"
      }
    },
    {
      "cell_type": "code",
      "source": [
        "# Task 6: Largest order in each city\n",
        "df = pd.DataFrame(orders)\n",
        "\n",
        "largest_order_per_city = df.loc[df.groupby(\"city\")[\"order_amount\"].idxmax()]\n",
        "\n"
      ],
      "metadata": {
        "id": "1mCJkilAzsQV"
      },
      "execution_count": null,
      "outputs": []
    },
    {
      "cell_type": "code",
      "source": [
        "# Task 7: Most loyal customers (highest order count)\n",
        "loyal_customers = df[\"user_id\"].value_counts().head(5)\n"
      ],
      "metadata": {
        "id": "MaIUpCiQQzbH"
      },
      "execution_count": null,
      "outputs": []
    },
    {
      "cell_type": "code",
      "source": [
        "# Task 8: City with widest variety of cuisines\n",
        "city_variety = df.groupby(\"city\")[\"cuisine\"].nunique().sort_values(ascending=False)"
      ],
      "metadata": {
        "id": "F8blqZ94Q1Zn"
      },
      "execution_count": null,
      "outputs": []
    },
    {
      "cell_type": "code",
      "source": [
        "# Task 9: Users with high frequency of orders (top 5 by count)\n",
        "high_freq_users = df[\"user_id\"].value_counts().head(5)"
      ],
      "metadata": {
        "id": "2cQzrJAmQ5fX"
      },
      "execution_count": null,
      "outputs": []
    },
    {
      "cell_type": "code",
      "source": [
        "# Task 10: Users who ordered from multiple cities\n",
        "distinct_cities_per_user = df.groupby(\"user_id\")[\"city\"].nunique()\n",
        "multi_city_users = distinct_cities_per_user[distinct_cities_per_user > 1]"
      ],
      "metadata": {
        "id": "v76SQg1wQ5xK"
      },
      "execution_count": null,
      "outputs": []
    },
    {
      "cell_type": "code",
      "source": [
        "# Task 11: Most dominant cuisine in each city\n",
        "dominant_cuisine_per_city = df.groupby([\"city\", \"cuisine\"])[\"order_amount\"].sum().reset_index()\n",
        "dominant_cuisine_per_city = dominant_cuisine_per_city.loc[dominant_cuisine_per_city.groupby(\"city\")[\"order_amount\"].idxmax()]"
      ],
      "metadata": {
        "id": "CjY0vPZGQ5_r"
      },
      "execution_count": null,
      "outputs": []
    },
    {
      "cell_type": "code",
      "source": [
        "# Task 12: Average order amount of each city\n",
        "df[\"order_amount\"] = pd.to_numeric(df[\"order_amount\"], errors=\"coerce\")\n",
        "avg_order_city = df.groupby(\"city\")[\"order_amount\"].mean()"
      ],
      "metadata": {
        "id": "ox-GvVccQ6K-"
      },
      "execution_count": null,
      "outputs": []
    },
    {
      "cell_type": "code",
      "source": [
        "# Task 13: City with highest total revenue\n",
        "city_revenue = df.groupby(\"city\")[\"order_amount\"].sum().sort_values(ascending=False)"
      ],
      "metadata": {
        "id": "cdLEowWVQ66y"
      },
      "execution_count": null,
      "outputs": []
    },
    {
      "cell_type": "code",
      "source": [
        "# Task 14: Largest one-time order\n",
        "largest_order = df.loc[df[\"order_amount\"].idxmax()]"
      ],
      "metadata": {
        "id": "lQP4uosaQ7Ly"
      },
      "execution_count": null,
      "outputs": []
    },
    {
      "cell_type": "code",
      "source": [
        "# Task 15: Favourite cuisine ordered by each customer\n",
        "fav_cuisine_per_user = df.groupby([\"user_id\", \"cuisine\"]).size().reset_index(name=\"count\")\n",
        "fav_cuisine_per_user = fav_cuisine_per_user.loc[fav_cuisine_per_user.groupby(\"user_id\")[\"count\"].idxmax()]"
      ],
      "metadata": {
        "id": "93nKjae6Q7aN"
      },
      "execution_count": null,
      "outputs": []
    },
    {
      "cell_type": "code",
      "source": [
        "# Task 16: Highest spending user in each city\n",
        "highest_spender_city = df.groupby([\"city\", \"user_id\"])[\"order_amount\"].sum().reset_index()"
      ],
      "metadata": {
        "id": "dhp3g_8UQ7pg"
      },
      "execution_count": null,
      "outputs": []
    },
    {
      "cell_type": "code",
      "source": [
        "# For each city, pick the user with the maximum spending\n",
        "highest_spender_city = highest_spender_city.loc[\n",
        "    highest_spender_city.groupby(\"city\")[\"order_amount\"].idxmax()\n",
        "]"
      ],
      "metadata": {
        "id": "0pe7zqS6Q8qQ"
      },
      "execution_count": null,
      "outputs": []
    },
    {
      "cell_type": "code",
      "source": [
        "# Print Results\n",
        "print(\"Task 6 - Largest Order in Each City:\\n\", largest_order_per_city, \"\\n\")\n",
        "print(\"Task 7 - Most Loyal Customers:\\n\", loyal_customers, \"\\n\")\n",
        "print(\"Task 8 - City with Widest Variety of Cuisines:\\n\", city_variety, \"\\n\")\n",
        "print(\"Task 9 - High Frequency Users:\\n\", high_freq_users, \"\\n\")\n",
        "print(\"Task 10 - Users from Multiple Cities:\\n\", multi_city_users, \"\\n\")\n",
        "print(\"Task 11 - Dominant Cuisine in Each City:\\n\", dominant_cuisine_per_city, \"\\n\")\n",
        "print(\"Task 12 - Average Order Amount per City:\\n\", avg_order_city, \"\\n\")\n",
        "print(\"Task 13 - City with Highest Revenue:\\n\", city_revenue, \"\\n\")\n",
        "print(\"Task 14 - Largest One-Time Order:\\n\", largest_order, \"\\n\")\n",
        "print(\"Task 15 - Frequent Cuisine per User:\\n\", fav_cuisine_per_user, \"\\n\")\n",
        "print(\"Task 16 - Highest Spending User in Each City:\\n\", highest_spender_city)"
      ],
      "metadata": {
        "colab": {
          "base_uri": "https://localhost:8080/"
        },
        "id": "GZJZYh51Qm_-",
        "outputId": "0aebfb41-341e-4554-8bd0-0a006fb4a0d5"
      },
      "execution_count": null,
      "outputs": [
        {
          "output_type": "stream",
          "name": "stdout",
          "text": [
            "Task 6 - Largest Order in Each City:\n",
            "     user_id       city       cuisine order_amount\n",
            "26     U005  Bangalore     Fast Food          997\n",
            "118    U045    Chennai       Italian          993\n",
            "42     U012      Delhi  South Indian          991\n",
            "98     U036  Hyderabad  South Indian          999\n",
            "65     U028     Mumbai       Italian          984 \n",
            "\n",
            "Task 7 - Most Loyal Customers:\n",
            " user_id\n",
            "U013    8\n",
            "U048    7\n",
            "U021    7\n",
            "U030    6\n",
            "U008    6\n",
            "Name: count, dtype: int64 \n",
            "\n",
            "Task 8 - City with Widest Variety of Cuisines:\n",
            " city\n",
            "Bangalore    5\n",
            "Chennai      5\n",
            "Delhi        5\n",
            "Hyderabad    5\n",
            "Mumbai       5\n",
            "Name: cuisine, dtype: int64 \n",
            "\n",
            "Task 9 - High Frequency Users:\n",
            " user_id\n",
            "U013    8\n",
            "U048    7\n",
            "U021    7\n",
            "U030    6\n",
            "U008    6\n",
            "Name: count, dtype: int64 \n",
            "\n",
            "Task 10 - Users from Multiple Cities:\n",
            " user_id\n",
            "U001    3\n",
            "U002    4\n",
            "U003    3\n",
            "U004    3\n",
            "U005    3\n",
            "U006    2\n",
            "U007    3\n",
            "U008    5\n",
            "U009    3\n",
            "U011    3\n",
            "U012    3\n",
            "U013    4\n",
            "U014    2\n",
            "U015    3\n",
            "U016    3\n",
            "U017    3\n",
            "U018    2\n",
            "U020    2\n",
            "U021    3\n",
            "U022    3\n",
            "U026    2\n",
            "U027    2\n",
            "U028    4\n",
            "U029    2\n",
            "U030    3\n",
            "U031    3\n",
            "U032    4\n",
            "U033    4\n",
            "U034    2\n",
            "U035    3\n",
            "U036    5\n",
            "U037    2\n",
            "U038    3\n",
            "U039    3\n",
            "U041    5\n",
            "U043    5\n",
            "U044    3\n",
            "U045    5\n",
            "U046    3\n",
            "U047    3\n",
            "U048    3\n",
            "U049    2\n",
            "U050    3\n",
            "Name: city, dtype: int64 \n",
            "\n",
            "Task 11 - Dominant Cuisine in Each City:\n",
            "          city       cuisine                          order_amount\n",
            "1   Bangalore     Fast Food     997180325235559708371682584646721\n",
            "8     Chennai  North Indian                          941330658418\n",
            "14      Delhi  South Indian           991865971529175783458419455\n",
            "16  Hyderabad     Fast Food              981880723665230596182924\n",
            "20     Mumbai       Chinese  755533145385846512869655445870885170 \n",
            "\n",
            "Task 12 - Average Order Amount per City:\n",
            " city\n",
            "Bangalore    553.395833\n",
            "Chennai      566.529412\n",
            "Delhi        552.857143\n",
            "Hyderabad    583.675000\n",
            "Mumbai       575.767442\n",
            "Name: order_amount, dtype: float64 \n",
            "\n",
            "Task 13 - City with Highest Revenue:\n",
            " city\n",
            "Bangalore    26563\n",
            "Mumbai       24758\n",
            "Hyderabad    23347\n",
            "Delhi        19350\n",
            "Chennai      19262\n",
            "Name: order_amount, dtype: int64 \n",
            "\n",
            "Task 14 - Largest One-Time Order:\n",
            " user_id                 U009\n",
            "city               Hyderabad\n",
            "cuisine         South Indian\n",
            "order_amount            1000\n",
            "Name: 94, dtype: object \n",
            "\n",
            "Task 15 - Frequent Cuisine per User:\n",
            "     user_id       cuisine  count\n",
            "0      U001       Chinese      2\n",
            "8      U002  North Indian      2\n",
            "10     U003     Fast Food      1\n",
            "14     U004     Fast Food      1\n",
            "17     U005       Chinese      2\n",
            "21     U006  North Indian      1\n",
            "23     U007       Chinese      1\n",
            "28     U008  North Indian      2\n",
            "32     U009  South Indian      3\n",
            "33     U010  North Indian      1\n",
            "34     U011     Fast Food      1\n",
            "39     U012       Italian      2\n",
            "41     U013       Chinese      2\n",
            "46     U014       Chinese      2\n",
            "49     U015  South Indian      3\n",
            "51     U016     Fast Food      2\n",
            "55     U017       Italian      3\n",
            "57     U018  North Indian      2\n",
            "59     U019       Chinese      1\n",
            "61     U020       Chinese      1\n",
            "67     U021  North Indian      2\n",
            "69     U022       Chinese      1\n",
            "72     U023       Chinese      1\n",
            "73     U024     Fast Food      1\n",
            "75     U025     Fast Food      2\n",
            "76     U026       Chinese      1\n",
            "78     U027       Chinese      1\n",
            "83     U028       Italian      3\n",
            "84     U029       Chinese      2\n",
            "86     U030       Chinese      2\n",
            "90     U031       Chinese      1\n",
            "96     U032       Italian      2\n",
            "98     U033       Chinese      2\n",
            "101    U034     Fast Food      1\n",
            "104    U035       Chinese      2\n",
            "111    U036  South Indian      3\n",
            "112    U037     Fast Food      1\n",
            "115    U038  South Indian      3\n",
            "118    U039       Italian      2\n",
            "119    U040  South Indian      1\n",
            "120    U041       Chinese      2\n",
            "124    U042  South Indian      1\n",
            "125    U043       Chinese      1\n",
            "130    U044     Fast Food      3\n",
            "133    U045       Italian      3\n",
            "137    U046  North Indian      2\n",
            "138    U047     Fast Food      2\n",
            "141    U048     Fast Food      3\n",
            "144    U049       Chinese      2\n",
            "146    U050       Italian      3 \n",
            "\n",
            "Task 16 - Highest Spending User in Each City:\n",
            "           city user_id  order_amount\n",
            "30   Bangalore    U048          2057\n",
            "41     Chennai    U021          2827\n",
            "65       Delhi    U029          1654\n",
            "80   Hyderabad    U001          1938\n",
            "114     Mumbai    U009          1734\n"
          ]
        }
      ]
    }
  ]
}